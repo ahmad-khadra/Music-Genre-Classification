{
 "cells": [
  {
   "cell_type": "code",
   "execution_count": 2,
   "metadata": {
    "id": "CJ0BzmKGNHoX"
   },
   "outputs": [],
   "source": [
    "import tensorflow as tf\n",
    "import librosa\n",
    "import numpy as np\n",
    "\n",
    "SAMPLE_RATE = 22050\n",
    "TRACK_DURATION = 30 # measured in seconds\n",
    "SAMPLES_PER_TRACK = SAMPLE_RATE * TRACK_DURATION\n",
    "samples_per_segment = int(SAMPLES_PER_TRACK / 6)\n",
    "\n",
    "SAVED_MODEL_PATH = \"D:/4th project/Genre/final_rasheed/final_S3/Model_Scenario_3_final.h5\"\n",
    "\n",
    "\n"
   ]
  },
  {
   "cell_type": "code",
   "execution_count": 3,
   "metadata": {
    "id": "atH5wT5sN5Kn"
   },
   "outputs": [],
   "source": [
    "mapping = [\n",
    "        \"blues\",\n",
    "        \"classical\",\n",
    "        \"hiphop\",\n",
    "        \"country\",\n",
    "        \"pop\",\n",
    "        \"jazz\",\n",
    "        \"rock\"\n",
    "    ]\n",
    "\n",
    "model = tf.keras.models.load_model(SAVED_MODEL_PATH)"
   ]
  },
  {
   "cell_type": "code",
   "execution_count": 4,
   "metadata": {
    "id": "aZ7cenh3ODcf"
   },
   "outputs": [],
   "source": [
    "def pred(file_path):\n",
    "       \n",
    "        # extract MFCC\n",
    "        MFCCs = preprocess(file_path)\n",
    "\n",
    "        # we need a 4-dim array to feed to the model for prediction: (# samples, # time steps, # coefficients, 1)\n",
    "        MFCCs = MFCCs[np.newaxis, ..., np.newaxis]\n",
    "\n",
    "        # get the predicted label\n",
    "        predictions = model.predict(MFCCs)\n",
    "        predicted_index = np.argmax(predictions)\n",
    "        predicted_keyword = mapping[predicted_index]\n",
    "        return predicted_keyword\n",
    "\n",
    "def preprocess(file_path, num_mfcc=13, n_fft=2048, hop_length=512):\n",
    "        \n",
    "        \n",
    "        # load audio file\n",
    "        signal, sample_rate = librosa.load(file_path)\n",
    "\n",
    "        if len(signal) >= samples_per_segment:\n",
    "            # ensure consistency of the length of the signal\n",
    "            signal = signal[:samples_per_segment]\n",
    "\n",
    "            # extract MFCCs\n",
    "            MFCCs = librosa.feature.mfcc(signal, sample_rate, n_mfcc=num_mfcc, n_fft=n_fft,\n",
    "                                         hop_length=hop_length)\n",
    "        return MFCCs\n"
   ]
  },
  {
   "cell_type": "code",
   "execution_count": 12,
   "metadata": {},
   "outputs": [
    {
     "name": "stdout",
     "output_type": "stream",
     "text": [
      "the predicted class is:\n",
      "rock\n"
     ]
    }
   ],
   "source": [
    "keyword = pred(\"D:/4th project/Predict/1/Blues.wav\")\n",
    "print(\"the predicted class is:\")\n",
    "print(keyword)"
   ]
  },
  {
   "cell_type": "code",
   "execution_count": 26,
   "metadata": {},
   "outputs": [
    {
     "name": "stdout",
     "output_type": "stream",
     "text": [
      "the predicted class is:\n",
      "rock\n"
     ]
    }
   ],
   "source": [
    "keyword = pred(\"D:/4th project/TEST/genre_test/rock/r_0_07.wav\")\n",
    "print(\"the predicted class is:\")\n",
    "print(keyword)"
   ]
  },
  {
   "cell_type": "markdown",
   "metadata": {
    "id": "QMPrTxEaURLT"
   },
   "source": []
  }
 ],
 "metadata": {
  "colab": {
   "name": "Untitled1.ipynb",
   "provenance": []
  },
  "kernelspec": {
   "display_name": "Python 3",
   "language": "python",
   "name": "python3"
  },
  "language_info": {
   "codemirror_mode": {
    "name": "ipython",
    "version": 3
   },
   "file_extension": ".py",
   "mimetype": "text/x-python",
   "name": "python",
   "nbconvert_exporter": "python",
   "pygments_lexer": "ipython3",
   "version": "3.7.6"
  }
 },
 "nbformat": 4,
 "nbformat_minor": 1
}
